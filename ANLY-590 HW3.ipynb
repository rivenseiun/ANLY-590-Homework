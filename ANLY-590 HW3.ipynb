{
 "cells": [
  {
   "cell_type": "markdown",
   "metadata": {},
   "source": [
    "# Q1 Autoencoder"
   ]
  },
  {
   "cell_type": "code",
   "execution_count": 2,
   "metadata": {},
   "outputs": [
    {
     "name": "stdout",
     "output_type": "stream",
     "text": [
      "Train on 60000 samples, validate on 10000 samples\n",
      "Epoch 1/10\n",
      "60000/60000 [==============================] - 102s 2ms/sample - loss: 46.3346 - val_loss: 41.0652\n",
      "Epoch 2/10\n",
      "60000/60000 [==============================] - 101s 2ms/sample - loss: 40.7402 - val_loss: 39.4072\n",
      "Epoch 3/10\n",
      "60000/60000 [==============================] - 104s 2ms/sample - loss: 39.3391 - val_loss: 38.4750\n",
      "Epoch 4/10\n",
      "60000/60000 [==============================] - 107s 2ms/sample - loss: 38.6468 - val_loss: 38.1197\n",
      "Epoch 5/10\n",
      "60000/60000 [==============================] - 106s 2ms/sample - loss: 38.1755 - val_loss: 37.8433\n",
      "Epoch 6/10\n",
      "60000/60000 [==============================] - 103s 2ms/sample - loss: 37.8706 - val_loss: 37.3622\n",
      "Epoch 7/10\n",
      "60000/60000 [==============================] - 100s 2ms/sample - loss: 37.6473 - val_loss: 37.3226\n",
      "Epoch 8/10\n",
      "60000/60000 [==============================] - 101s 2ms/sample - loss: 37.3758 - val_loss: 37.0691\n",
      "Epoch 9/10\n",
      "60000/60000 [==============================] - 105s 2ms/sample - loss: 37.2348 - val_loss: 37.2905\n",
      "Epoch 10/10\n",
      "60000/60000 [==============================] - 106s 2ms/sample - loss: 37.1491 - val_loss: 36.9840\n"
     ]
    },
    {
     "data": {
      "image/png": "[encoded data removed]",
      "text/plain": [
       "<Figure size 432x288 with 10 Axes>"
      ]
     },
     "metadata": {
      "needs_background": "light"
     },
     "output_type": "display_data"
    }
   ],
   "source": [
    "import tensorflow as tf\n",
    "from tensorflow import keras\n",
    "import numpy as np\n",
    "import matplotlib.pyplot as plt\n",
    "\n",
    "\n",
    "import warnings\n",
    "warnings.filterwarnings('ignore')\n",
    "\n",
    "mnist = keras.datasets.fashion_mnist\n",
    "(x_train, _), (x_test, _) = mnist.load_data()\n",
    "model = keras.Sequential()\n",
    "\n",
    "x_train = x_train.astype('float32') / 255.\n",
    "x_test = x_test.astype('float32') / 255.\n",
    "x_train = np.reshape(x_train, (len(x_train), 28, 28, 1))  \n",
    "x_test = np.reshape(x_test, (len(x_test), 28, 28, 1))  \n",
    "\n",
    "\n",
    "model.add(keras.layers.Conv2D(filters=16, kernel_size=(5,5), activation='relu',  padding='same',strides=(1,1), input_shape=(28,28,1)))\n",
    "model.add(keras.layers.MaxPooling2D((2,2), padding='same'))\n",
    "model.add(keras.layers.Conv2D(filters=8, kernel_size=(5,5), activation='relu',  padding='same',strides=(1,1)))\n",
    "model.add(keras.layers.MaxPooling2D((2,2), padding='same'))\n",
    "model.add(keras.layers.Conv2D(filters=8, kernel_size=(5,5), activation='relu',  padding='same',strides=(1,1)))\n",
    "model.add(keras.layers.MaxPooling2D((2,2), padding='same'))\n",
    "\n",
    "model.add(keras.layers.Conv2D(filters=8, kernel_size= (3,3), activation= 'relu', padding='same',strides=(1,1)))\n",
    "model.add(keras.layers.UpSampling2D((2,2)))\n",
    "model.add(keras.layers.Conv2D(filters=8, kernel_size= (3,3), activation= 'relu', padding='same',strides=(1,1)))\n",
    "model.add(keras.layers.UpSampling2D((2,2)))\n",
    "model.add(keras.layers.Conv2D(filters=16, kernel_size= (3,3), activation= 'relu',strides=(1,1)))\n",
    "model.add(keras.layers.UpSampling2D((2,2)))\n",
    "model.add(keras.layers.Conv2D(filters=1, kernel_size= (3,3), activation= 'sigmoid', padding='same'))\n",
    "model.compile(optimizer='adadelta', loss='binary_crossentropy')\n",
    "model.fit(x_train, x_train, epochs=10, batch_size=128, validation_data=(x_test, x_test), shuffle=True)\n",
    "\n",
    "decoded = model.predict(x_test)\n",
    "\n",
    "\n",
    "n = 5\n",
    "for i in range(n):\n",
    "    ax = plt.subplot(2, n, i+1)\n",
    "    plt.imshow(x_test[i].reshape(28,28))\n",
    "    ax.get_xaxis().set_visible(False)\n",
    "    ax.get_yaxis().set_visible(False)\n",
    "    \n",
    "    ax = plt.subplot(2, n, i+1+n)\n",
    "    plt.imshow(decoded[i].reshape(28,28))\n",
    "    ax.get_xaxis().set_visible(False)\n",
    "    ax.get_yaxis().set_visible(False)\n",
    "plt.show()"
   ]
  },
  {
   "cell_type": "markdown",
   "metadata": {},
   "source": [
    "# Q2 CNN\n"
   ]
  },
  {
   "cell_type": "markdown",
   "metadata": {},
   "source": [
    "## 2.1 Deep CNN\n",
    "\n"
   ]
  },
  {
   "cell_type": "code",
   "execution_count": 9,
   "metadata": {},
   "outputs": [
    {
     "name": "stdout",
     "output_type": "stream",
     "text": [
      "Train on 60000 samples, validate on 10000 samples\n",
      "Epoch 1/10\n",
      "60000/60000 [==============================] - 79s 1ms/sample - loss: 0.6001 - acc: 0.7759 - val_loss: 0.3956 - val_acc: 0.8526\n",
      "Epoch 2/10\n",
      "60000/60000 [==============================] - 69s 1ms/sample - loss: 0.4000 - acc: 0.8543 - val_loss: 0.3225 - val_acc: 0.8826\n",
      "Epoch 3/10\n",
      "60000/60000 [==============================] - 70s 1ms/sample - loss: 0.3554 - acc: 0.8695 - val_loss: 0.3035 - val_acc: 0.8882\n",
      "Epoch 4/10\n",
      "60000/60000 [==============================] - 71s 1ms/sample - loss: 0.3300 - acc: 0.8792 - val_loss: 0.2936 - val_acc: 0.8908\n",
      "Epoch 5/10\n",
      "60000/60000 [==============================] - 68s 1ms/sample - loss: 0.3155 - acc: 0.8857 - val_loss: 0.2881 - val_acc: 0.8909\n",
      "Epoch 6/10\n",
      "60000/60000 [==============================] - 68s 1ms/sample - loss: 0.3022 - acc: 0.8887 - val_loss: 0.2751 - val_acc: 0.8968\n",
      "Epoch 7/10\n",
      "60000/60000 [==============================] - 68s 1ms/sample - loss: 0.2932 - acc: 0.8909 - val_loss: 0.2843 - val_acc: 0.8943\n",
      "Epoch 8/10\n",
      "60000/60000 [==============================] - 68s 1ms/sample - loss: 0.2863 - acc: 0.8935 - val_loss: 0.2668 - val_acc: 0.9003\n",
      "Epoch 9/10\n",
      "60000/60000 [==============================] - 68s 1ms/sample - loss: 0.2825 - acc: 0.8954 - val_loss: 0.2748 - val_acc: 0.8945\n",
      "Epoch 10/10\n",
      "60000/60000 [==============================] - 69s 1ms/sample - loss: 0.2791 - acc: 0.8960 - val_loss: 0.2518 - val_acc: 0.9076\n"
     ]
    },
    {
     "data": {
      "text/plain": [
       "<tensorflow.python.keras.callbacks.History at 0x12f3a09f5f8>"
      ]
     },
     "execution_count": 9,
     "metadata": {},
     "output_type": "execute_result"
    }
   ],
   "source": [
    "from tensorflow.python.keras.utils import to_categorical\n",
    "mnist = keras.datasets.fashion_mnist\n",
    "(x_train, y_train), (x_test, y_test) = mnist.load_data()\n",
    "model = keras.Sequential()\n",
    "\n",
    "x_train = x_train.astype('float32') / 255.\n",
    "x_test = x_test.astype('float32') / 255.\n",
    "x_train = np.reshape(x_train, (len(x_train), 28, 28, 1))  \n",
    "x_test = np.reshape(x_test, (len(x_test), 28, 28, 1))  \n",
    "y_train= to_categorical(y_train)\n",
    "y_test = to_categorical(y_test)\n",
    "\n",
    "\n",
    "\n",
    "\n",
    "model.add(keras.layers.Conv2D(32, kernel_size=(3, 3), activation='relu', input_shape=(28,28,1)))\n",
    "model.add(keras.layers.MaxPooling2D((2, 2)))\n",
    "model.add(keras.layers.Dropout(0.25))\n",
    "model.add(keras.layers.Conv2D(64, kernel_size=(3, 3), activation='relu'))\n",
    "model.add(keras.layers.MaxPooling2D(pool_size=(2, 2)))\n",
    "model.add(keras.layers.Dropout(0.25))\n",
    "model.add(keras.layers.Conv2D(128, kernel_size=(3, 3), activation='relu'))\n",
    "model.add(keras.layers.Dropout(0.4))\n",
    "model.add(keras.layers.Flatten())\n",
    "model.add(keras.layers.Dense(128, activation='relu'))\n",
    "model.add(keras.layers.Dropout(0.3))\n",
    "model.add(keras.layers.Dense(10, activation='softmax'))\n",
    "\n",
    "model.compile(loss=keras.losses.categorical_crossentropy,\n",
    "              optimizer=keras.optimizers.Adam(),\n",
    "              metrics=['accuracy'])\n",
    "model.fit(x_train, y_train, epochs=10, shuffle=True, validation_data=(x_test, y_test))"
   ]
  },
  {
   "cell_type": "markdown",
   "metadata": {},
   "source": [
    "## 2.2 Transfer Learning"
   ]
  },
  {
   "cell_type": "code",
   "execution_count": 6,
   "metadata": {
    "scrolled": true
   },
   "outputs": [
    {
     "name": "stdout",
     "output_type": "stream",
     "text": [
      "Train on 60000 samples, validate on 10000 samples\n",
      "Epoch 1/5\n",
      "60000/60000 [==============================] - 416s 7ms/sample - loss: 0.6833 - acc: 0.7642 - val_loss: 0.4876 - val_acc: 0.8215\n",
      "Epoch 2/5\n",
      "60000/60000 [==============================] - 433s 7ms/sample - loss: 0.4513 - acc: 0.8339 - val_loss: 0.4379 - val_acc: 0.8409\n",
      "Epoch 3/5\n",
      "60000/60000 [==============================] - 429s 7ms/sample - loss: 0.4109 - acc: 0.8495 - val_loss: 0.4166 - val_acc: 0.8476\n",
      "Epoch 4/5\n",
      "60000/60000 [==============================] - 435s 7ms/sample - loss: 0.3862 - acc: 0.8585 - val_loss: 0.4001 - val_acc: 0.8532\n",
      "Epoch 5/5\n",
      "60000/60000 [==============================] - 436s 7ms/sample - loss: 0.3731 - acc: 0.8621 - val_loss: 0.4028 - val_acc: 0.8508\n"
     ]
    },
    {
     "data": {
      "text/plain": [
       "<tensorflow.python.keras.callbacks.History at 0x1cf25c98f60>"
      ]
     },
     "execution_count": 6,
     "metadata": {},
     "output_type": "execute_result"
    }
   ],
   "source": [
    "from tensorflow import keras\n",
    "from tensorflow.keras.applications.vgg16 import VGG16\n",
    "from tensorflow.python.keras.preprocessing.image import img_to_array, array_to_img\n",
    "from tensorflow.python.keras.layers import Input\n",
    "from tensorflow.python.keras.layers import Dense, GlobalAveragePooling2D,ZeroPadding2D,Flatten\n",
    "from tensorflow.python.keras.models import Model\n",
    "import numpy as np\n",
    "\n",
    "mnist = keras.datasets.fashion_mnist\n",
    "(x_train, y_train), (x_test, y_test) = mnist.load_data()\n",
    "\n",
    "x_train = x_train.astype('float32')/255\n",
    "x_test = x_test.astype('float32')/255\n",
    "x_train = np.stack((x_train, )*3, axis=-1)\n",
    "x_test = np.stack((x_test, )*3, axis=-1)\n",
    "\n",
    "input_tensor = Input(shape=(28, 28, 3))\n",
    "input_tensor = ZeroPadding2D(padding = (2, 2))(input_tensor)\n",
    "\n",
    "base_model = VGG16(input_tensor=input_tensor ,include_top=False, weights='imagenet', input_shape=(32, 32, 3))\n",
    "for layer in base_model.layers:\n",
    "\tlayer.trainable = False\n",
    "\n",
    "x = base_model.output\n",
    "x = Flatten()(x)\n",
    "x = Dense(64, activation='relu')(x)\n",
    "x = Dense(64, activation='relu')(x)\n",
    "prediction = Dense(10, activation='softmax')(x)\n",
    "model = Model(base_model.input, prediction)\n",
    "model.compile(optimizer='adam', loss='sparse_categorical_crossentropy', metrics=['accuracy'])\n",
    "model.fit(x_train, y_train, validation_data=(x_test, y_test), batch_size=128, epochs=5)\n",
    "\n",
    "\n",
    "\n"
   ]
  },
  {
   "cell_type": "markdown",
   "metadata": {},
   "source": [
    "# Q3 Text Classification"
   ]
  },
  {
   "cell_type": "markdown",
   "metadata": {},
   "source": [
    "I write the answer of Q3 in a seperate notebook and I cannot merge the two notebooks together.\n",
    "See:https://github.com/rivenseiun/ANLY-590-Homework/blob/master/ANLY-590%20HW3_2.ipynb"
   ]
  }
 ],
 "metadata": {
  "kernelspec": {
   "display_name": "Python 3",
   "language": "python",
   "name": "python3"
  },
  "language_info": {
   "codemirror_mode": {
    "name": "ipython",
    "version": 3
   },
   "file_extension": ".py",
   "mimetype": "text/x-python",
   "name": "python",
   "nbconvert_exporter": "python",
   "pygments_lexer": "ipython3",
   "version": "3.6.8"
  }
 },
 "nbformat": 4,
 "nbformat_minor": 2
}
