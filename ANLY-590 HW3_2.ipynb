{
 "cells": [
  {
   "cell_type": "markdown",
   "metadata": {},
   "source": [
    "# Q3 Text Classification"
   ]
  },
  {
   "cell_type": "markdown",
   "metadata": {},
   "source": [
    "## 3.1 RNN"
   ]
  },
  {
   "cell_type": "code",
   "execution_count": 10,
   "metadata": {},
   "outputs": [],
   "source": [
    "#Text preprocessing:\n",
    "import pandas as pd\n",
    "from tensorflow import keras\n",
    "import sklearn\n",
    "from nltk.tokenize import word_tokenize\n",
    "\n",
    "\n",
    "import re \n",
    "\n",
    "#Text preprocessing:\n",
    "data = pd.read_csv('./twitter_data/tweets_with_labels.csv', sep='\\t')\n",
    "texts = []\n",
    "for t in data['tweet']:\n",
    "    tokens = word_tokenize(t)\n",
    "    term =[]\n",
    "    for to in tokens:\n",
    "        if(re.fullmatch(r'[a-zA-Z]*',to) or re.fullmatch(r'[a-zA-Z]*\\'[a-zA-z]*',to)): \n",
    "            term.append(to)\n",
    "            \n",
    "    text = ' '.join(term)\n",
    "    texts.append(text)\n",
    "data['texts'] = texts"
   ]
  },
  {
   "cell_type": "code",
   "execution_count": 22,
   "metadata": {},
   "outputs": [
    {
     "name": "stdout",
     "output_type": "stream",
     "text": [
      "Train on 54562 samples, validate on 23384 samples\n",
      "Epoch 1/10\n",
      "54562/54562 [==============================] - 19s 340us/step - loss: 1.8073 - accuracy: 0.6558 - val_loss: 1.5640 - val_accuracy: 0.7432\n",
      "Epoch 2/10\n",
      "54562/54562 [==============================] - 10s 184us/step - loss: 1.5155 - accuracy: 0.7508 - val_loss: 1.5075 - val_accuracy: 0.7562\n",
      "Epoch 3/10\n",
      "54562/54562 [==============================] - 10s 192us/step - loss: 1.4863 - accuracy: 0.7546 - val_loss: 1.4839 - val_accuracy: 0.7565\n",
      "Epoch 4/10\n",
      "54562/54562 [==============================] - 11s 202us/step - loss: 1.4671 - accuracy: 0.7574 - val_loss: 1.4737 - val_accuracy: 0.7557\n",
      "Epoch 5/10\n",
      "54562/54562 [==============================] - 11s 193us/step - loss: 1.4532 - accuracy: 0.7596 - val_loss: 1.4622 - val_accuracy: 0.7539\n",
      "Epoch 6/10\n",
      "54562/54562 [==============================] - 11s 194us/step - loss: 1.4443 - accuracy: 0.7601 - val_loss: 1.4591 - val_accuracy: 0.7571\n",
      "Epoch 7/10\n",
      "54562/54562 [==============================] - 11s 193us/step - loss: 1.4368 - accuracy: 0.7614 - val_loss: 1.4685 - val_accuracy: 0.7541\n",
      "Epoch 8/10\n",
      "54562/54562 [==============================] - 10s 192us/step - loss: 1.4321 - accuracy: 0.7612 - val_loss: 1.4462 - val_accuracy: 0.7606\n",
      "Epoch 9/10\n",
      "54562/54562 [==============================] - 10s 192us/step - loss: 1.4238 - accuracy: 0.7640 - val_loss: 1.4519 - val_accuracy: 0.7635\n",
      "Epoch 10/10\n",
      "54562/54562 [==============================] - 11s 196us/step - loss: 1.4189 - accuracy: 0.7640 - val_loss: 1.4391 - val_accuracy: 0.7632\n"
     ]
    }
   ],
   "source": [
    "from sklearn.model_selection import train_test_split\n",
    "from tensorflow.python.keras.preprocessing.text import Tokenizer\n",
    "from tensorflow.python.keras.preprocessing.sequence import pad_sequences\n",
    "\n",
    "x = data['texts']\n",
    "y = data[['k1','k2','k3','k4','k5','k6','k7','k8','k9','k10','k11','k12','k13','k14','k15']]\n",
    "x_train, x_test, y_train,y_test = train_test_split(x,y,test_size=0.3,random_state=16)\n",
    "\n",
    "tokenizer = Tokenizer(100)\n",
    "tokenizer.fit_on_texts(x_train)\n",
    "x_train = tokenizer.texts_to_sequences(x_train) \n",
    "x_test = tokenizer.texts_to_sequences(x_test)\n",
    "x_train = pad_sequences(x_train,maxlen=50)\n",
    "x_test = pad_sequences(x_test,maxlen=50)\n",
    "\n",
    "\n",
    "\n",
    "model = keras.Sequential()\n",
    "model.add(keras.layers.Embedding(100,64))\n",
    "model.add(keras.layers.SimpleRNN(64))\n",
    "model.add(keras.layers.Dense(15, activation='softmax'))\n",
    "model.compile(optimizer = 'adam',loss = 'categorical_crossentropy',metrics=['accuracy'])\n",
    "rnn_res =model.fit(x_train,y_train,epochs = 10,validation_data = (x_test, y_test), batch_size = 64,verbose=1)\n",
    "\n",
    "\n",
    "\n"
   ]
  },
  {
   "cell_type": "markdown",
   "metadata": {},
   "source": [
    "## 3.2 CNN"
   ]
  },
  {
   "cell_type": "code",
   "execution_count": 44,
   "metadata": {},
   "outputs": [
    {
     "name": "stdout",
     "output_type": "stream",
     "text": [
      "Train on 54562 samples, validate on 23384 samples\n",
      "Epoch 1/10\n",
      "54562/54562 [==============================] - 24s 440us/step - loss: 1.5424 - accuracy: 0.7315 - val_loss: 1.4269 - val_accuracy: 0.7691\n",
      "Epoch 2/10\n",
      "54562/54562 [==============================] - 19s 341us/step - loss: 1.4023 - accuracy: 0.7686 - val_loss: 1.4065 - val_accuracy: 0.7701\n",
      "Epoch 3/10\n",
      "54562/54562 [==============================] - 18s 336us/step - loss: 1.3798 - accuracy: 0.7705 - val_loss: 1.3970 - val_accuracy: 0.7677\n",
      "Epoch 4/10\n",
      "54562/54562 [==============================] - 18s 336us/step - loss: 1.3634 - accuracy: 0.7716 - val_loss: 1.3942 - val_accuracy: 0.7701\n",
      "Epoch 5/10\n",
      "54562/54562 [==============================] - 18s 332us/step - loss: 1.3469 - accuracy: 0.7744 - val_loss: 1.3937 - val_accuracy: 0.7682\n",
      "Epoch 6/10\n",
      "54562/54562 [==============================] - 18s 333us/step - loss: 1.3311 - accuracy: 0.7765 - val_loss: 1.3937 - val_accuracy: 0.7709\n",
      "Epoch 7/10\n",
      "54562/54562 [==============================] - 19s 349us/step - loss: 1.3171 - accuracy: 0.7781 - val_loss: 1.4004 - val_accuracy: 0.7711\n",
      "Epoch 8/10\n",
      "54562/54562 [==============================] - 20s 361us/step - loss: 1.3036 - accuracy: 0.7797 - val_loss: 1.4040 - val_accuracy: 0.7694\n",
      "Epoch 9/10\n",
      "54562/54562 [==============================] - 19s 353us/step - loss: 1.2911 - accuracy: 0.7815 - val_loss: 1.4200 - val_accuracy: 0.7659\n",
      "Epoch 10/10\n",
      "54562/54562 [==============================] - 19s 350us/step - loss: 1.2791 - accuracy: 0.7839 - val_loss: 1.4181 - val_accuracy: 0.7724\n"
     ]
    }
   ],
   "source": [
    "model = keras.Sequential()\n",
    "model.add(keras.layers.Embedding(100,128))\n",
    "model.add(keras.layers.Conv1D(128, kernel_size = 3,padding='same',activation='relu',strides=1))\n",
    "model.add(keras.layers.GlobalMaxPooling1D())\n",
    "model.add(keras.layers.Dense(128, activation='relu'))\n",
    "model.add(keras.layers.Dense(15, activation='softmax'))\n",
    "model.compile(optimizer = 'adam',loss = 'categorical_crossentropy',metrics=['accuracy'])\n",
    "cnn_res =model.fit(x_train,y_train,epochs = 10,validation_data = (x_test, y_test), batch_size = 64,verbose=1)\n"
   ]
  },
  {
   "cell_type": "markdown",
   "metadata": {},
   "source": [
    "## 3.3 Compare and Plot"
   ]
  },
  {
   "cell_type": "code",
   "execution_count": 51,
   "metadata": {
    "scrolled": true
   },
   "outputs": [
    {
     "data": {
      "image/png": "[encoded data removed]",
      "text/plain": [
       "<Figure size 360x360 with 1 Axes>"
      ]
     },
     "metadata": {
      "needs_background": "light"
     },
     "output_type": "display_data"
    }
   ],
   "source": [
    "import matplotlib.pyplot as plt\n",
    "plt.figure(figsize=(5,5))\n",
    "plt.title('Accuracy')\n",
    "plt.plot(cnn_res.history['accuracy'], label='CNN training set',marker = '*')\n",
    "plt.plot(cnn_res.history['val_accuracy'], label='CNN test set',marker = 'o')\n",
    "plt.plot(rnn_res.history['accuracy'], label='RNN training set',marker = '*')\n",
    "plt.plot(rnn_res.history['val_accuracy'], label='RNN test set',marker = 'o')\n",
    "plt.legend(loc = 'lower right') \n",
    "  \n",
    "plt.xlabel('iteration times')\n",
    "plt.ylabel('rate')\n",
    "plt.show()"
   ]
  },
  {
   "cell_type": "code",
   "execution_count": null,
   "metadata": {},
   "outputs": [],
   "source": []
  }
 ],
 "metadata": {
  "kernelspec": {
   "display_name": "Python 3",
   "language": "python",
   "name": "python3"
  },
  "language_info": {
   "codemirror_mode": {
    "name": "ipython",
    "version": 3
   },
   "file_extension": ".py",
   "mimetype": "text/x-python",
   "name": "python",
   "nbconvert_exporter": "python",
   "pygments_lexer": "ipython3",
   "version": "3.6.8"
  }
 },
 "nbformat": 4,
 "nbformat_minor": 2
}
